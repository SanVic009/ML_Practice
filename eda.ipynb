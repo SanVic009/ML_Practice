{
 "cells": [
  {
   "cell_type": "code",
   "execution_count": 2,
   "metadata": {},
   "outputs": [],
   "source": [
    "import seaborn as sns\n",
    "import pandas as pd"
   ]
  },
  {
   "cell_type": "code",
   "execution_count": 11,
   "metadata": {},
   "outputs": [],
   "source": [
    "\n",
    "df = pd.read_csv('datasets/customer.csv')"
   ]
  },
  {
   "cell_type": "code",
   "execution_count": 20,
   "metadata": {},
   "outputs": [
    {
     "data": {
      "text/plain": [
       "(847, 15)"
      ]
     },
     "execution_count": 20,
     "metadata": {},
     "output_type": "execute_result"
    }
   ],
   "source": [
    "df.shape"
   ]
  },
  {
   "cell_type": "code",
   "execution_count": 18,
   "metadata": {},
   "outputs": [
    {
     "data": {
      "text/plain": [
       "12705"
      ]
     },
     "execution_count": 18,
     "metadata": {},
     "output_type": "execute_result"
    }
   ],
   "source": [
    "df.size"
   ]
  },
  {
   "cell_type": "code",
   "execution_count": 16,
   "metadata": {},
   "outputs": [
    {
     "name": "stdout",
     "output_type": "stream",
     "text": [
      "<class 'pandas.core.frame.DataFrame'>\n",
      "RangeIndex: 847 entries, 0 to 846\n",
      "Data columns (total 15 columns):\n",
      " #   Column        Non-Null Count  Dtype \n",
      "---  ------        --------------  ----- \n",
      " 0   CustomerID    847 non-null    int64 \n",
      " 1   NameStyle     847 non-null    bool  \n",
      " 2   Title         840 non-null    object\n",
      " 3   FirstName     847 non-null    object\n",
      " 4   MiddleName    504 non-null    object\n",
      " 5   LastName      847 non-null    object\n",
      " 6   Suffix        48 non-null     object\n",
      " 7   CompanyName   847 non-null    object\n",
      " 8   SalesPerson   847 non-null    object\n",
      " 9   EmailAddress  847 non-null    object\n",
      " 10  Phone         847 non-null    object\n",
      " 11  PasswordHash  847 non-null    object\n",
      " 12  PasswordSalt  847 non-null    object\n",
      " 13  rowguid       847 non-null    object\n",
      " 14  ModifiedDate  847 non-null    object\n",
      "dtypes: bool(1), int64(1), object(13)\n",
      "memory usage: 93.6+ KB\n"
     ]
    }
   ],
   "source": [
    "df.info()"
   ]
  },
  {
   "cell_type": "code",
   "execution_count": 25,
   "metadata": {},
   "outputs": [
    {
     "data": {
      "text/html": [
       "<div>\n",
       "<style scoped>\n",
       "    .dataframe tbody tr th:only-of-type {\n",
       "        vertical-align: middle;\n",
       "    }\n",
       "\n",
       "    .dataframe tbody tr th {\n",
       "        vertical-align: top;\n",
       "    }\n",
       "\n",
       "    .dataframe thead th {\n",
       "        text-align: right;\n",
       "    }\n",
       "</style>\n",
       "<table border=\"1\" class=\"dataframe\">\n",
       "  <thead>\n",
       "    <tr style=\"text-align: right;\">\n",
       "      <th></th>\n",
       "      <th>CustomerID</th>\n",
       "    </tr>\n",
       "  </thead>\n",
       "  <tbody>\n",
       "    <tr>\n",
       "      <th>count</th>\n",
       "      <td>847.000000</td>\n",
       "    </tr>\n",
       "    <tr>\n",
       "      <th>mean</th>\n",
       "      <td>14503.217237</td>\n",
       "    </tr>\n",
       "    <tr>\n",
       "      <th>std</th>\n",
       "      <td>14729.700946</td>\n",
       "    </tr>\n",
       "    <tr>\n",
       "      <th>min</th>\n",
       "      <td>1.000000</td>\n",
       "    </tr>\n",
       "    <tr>\n",
       "      <th>25%</th>\n",
       "      <td>330.500000</td>\n",
       "    </tr>\n",
       "    <tr>\n",
       "      <th>50%</th>\n",
       "      <td>672.000000</td>\n",
       "    </tr>\n",
       "    <tr>\n",
       "      <th>75%</th>\n",
       "      <td>29798.000000</td>\n",
       "    </tr>\n",
       "    <tr>\n",
       "      <th>max</th>\n",
       "      <td>30118.000000</td>\n",
       "    </tr>\n",
       "  </tbody>\n",
       "</table>\n",
       "</div>"
      ],
      "text/plain": [
       "         CustomerID\n",
       "count    847.000000\n",
       "mean   14503.217237\n",
       "std    14729.700946\n",
       "min        1.000000\n",
       "25%      330.500000\n",
       "50%      672.000000\n",
       "75%    29798.000000\n",
       "max    30118.000000"
      ]
     },
     "execution_count": 25,
     "metadata": {},
     "output_type": "execute_result"
    }
   ],
   "source": [
    "df.describe()"
   ]
  },
  {
   "cell_type": "code",
   "execution_count": 26,
   "metadata": {},
   "outputs": [
    {
     "data": {
      "text/plain": [
       "0      False\n",
       "1      False\n",
       "2      False\n",
       "3      False\n",
       "4      False\n",
       "       ...  \n",
       "842    False\n",
       "843    False\n",
       "844    False\n",
       "845    False\n",
       "846    False\n",
       "Length: 847, dtype: bool"
      ]
     },
     "execution_count": 26,
     "metadata": {},
     "output_type": "execute_result"
    }
   ],
   "source": [
    "df.duplicated()"
   ]
  },
  {
   "cell_type": "code",
   "execution_count": 27,
   "metadata": {},
   "outputs": [
    {
     "data": {
      "text/html": [
       "<div>\n",
       "<style scoped>\n",
       "    .dataframe tbody tr th:only-of-type {\n",
       "        vertical-align: middle;\n",
       "    }\n",
       "\n",
       "    .dataframe tbody tr th {\n",
       "        vertical-align: top;\n",
       "    }\n",
       "\n",
       "    .dataframe thead th {\n",
       "        text-align: right;\n",
       "    }\n",
       "</style>\n",
       "<table border=\"1\" class=\"dataframe\">\n",
       "  <thead>\n",
       "    <tr style=\"text-align: right;\">\n",
       "      <th></th>\n",
       "      <th>CustomerID</th>\n",
       "      <th>NameStyle</th>\n",
       "      <th>Title</th>\n",
       "      <th>FirstName</th>\n",
       "      <th>MiddleName</th>\n",
       "      <th>LastName</th>\n",
       "      <th>Suffix</th>\n",
       "      <th>CompanyName</th>\n",
       "      <th>SalesPerson</th>\n",
       "      <th>EmailAddress</th>\n",
       "      <th>Phone</th>\n",
       "      <th>PasswordHash</th>\n",
       "      <th>PasswordSalt</th>\n",
       "      <th>rowguid</th>\n",
       "      <th>ModifiedDate</th>\n",
       "    </tr>\n",
       "  </thead>\n",
       "  <tbody>\n",
       "    <tr>\n",
       "      <th>405</th>\n",
       "      <td>644</td>\n",
       "      <td>False</td>\n",
       "      <td>Mr.</td>\n",
       "      <td>Gregory</td>\n",
       "      <td>T.</td>\n",
       "      <td>Vanderbout</td>\n",
       "      <td>Jr.</td>\n",
       "      <td>Convenient Sales and Service</td>\n",
       "      <td>adventure-works\\pamela0</td>\n",
       "      <td>gregory1@adventure-works.com</td>\n",
       "      <td>684-555-0134</td>\n",
       "      <td>syI1UO2qeBH9g2tg2nu3DTejZc7OEShGw8jxOqXfATY=</td>\n",
       "      <td>FAw6ojc=</td>\n",
       "      <td>{9CCD22E6-5ACF-4378-BA69-1FE722239354}</td>\n",
       "      <td>2006-09-01 00:00:00</td>\n",
       "    </tr>\n",
       "    <tr>\n",
       "      <th>728</th>\n",
       "      <td>29935</td>\n",
       "      <td>False</td>\n",
       "      <td>Ms.</td>\n",
       "      <td>Elsa</td>\n",
       "      <td>NaN</td>\n",
       "      <td>Leavitt</td>\n",
       "      <td>NaN</td>\n",
       "      <td>Frugal Bike Shop</td>\n",
       "      <td>adventure-works\\shu0</td>\n",
       "      <td>elsa0@adventure-works.com</td>\n",
       "      <td>482-555-0174</td>\n",
       "      <td>BmJaM+147GrhU00kNTtaTolp0EJcarJK/SCfew4ZiYA=</td>\n",
       "      <td>YADhpPo=</td>\n",
       "      <td>{70394DAC-8CBD-4C81-8A27-B1F8B5C041E8}</td>\n",
       "      <td>2006-08-01 00:00:00</td>\n",
       "    </tr>\n",
       "    <tr>\n",
       "      <th>138</th>\n",
       "      <td>219</td>\n",
       "      <td>False</td>\n",
       "      <td>Mr.</td>\n",
       "      <td>Brian</td>\n",
       "      <td>NaN</td>\n",
       "      <td>Johnson</td>\n",
       "      <td>NaN</td>\n",
       "      <td>Extras Sporting Goods</td>\n",
       "      <td>adventure-works\\jillian0</td>\n",
       "      <td>brian6@adventure-works.com</td>\n",
       "      <td>320-555-0134</td>\n",
       "      <td>TGnRB6vDbV0LZss8tA9iu637/34mcJWkD0Ux4xaza/k=</td>\n",
       "      <td>2t9hMlk=</td>\n",
       "      <td>{D39CCCE3-C4A6-441D-8A3C-96507627746D}</td>\n",
       "      <td>2007-03-01 00:00:00</td>\n",
       "    </tr>\n",
       "    <tr>\n",
       "      <th>193</th>\n",
       "      <td>306</td>\n",
       "      <td>False</td>\n",
       "      <td>Mr.</td>\n",
       "      <td>Stephen</td>\n",
       "      <td>M.</td>\n",
       "      <td>Ayers</td>\n",
       "      <td>NaN</td>\n",
       "      <td>Work and Play Association</td>\n",
       "      <td>adventure-works\\michael9</td>\n",
       "      <td>stephen1@adventure-works.com</td>\n",
       "      <td>818-555-0171</td>\n",
       "      <td>m79YsPy3BDp4/SUQsvNcbTQuyZxUGV9TuBeHcAHjZCk=</td>\n",
       "      <td>F0hRcQ8=</td>\n",
       "      <td>{F8F2835D-F5F0-4070-8465-46BFC815153B}</td>\n",
       "      <td>2006-09-01 00:00:00</td>\n",
       "    </tr>\n",
       "    <tr>\n",
       "      <th>63</th>\n",
       "      <td>100</td>\n",
       "      <td>False</td>\n",
       "      <td>Mr.</td>\n",
       "      <td>Kirk</td>\n",
       "      <td>T</td>\n",
       "      <td>King</td>\n",
       "      <td>NaN</td>\n",
       "      <td>Up-To-Date Sports</td>\n",
       "      <td>adventure-works\\josé1</td>\n",
       "      <td>kirk2@adventure-works.com</td>\n",
       "      <td>979-555-0163</td>\n",
       "      <td>056V7iOc8FPUiLanlyEqQX6cAWuL0TJ8fQBhX7mEjMU=</td>\n",
       "      <td>b96sfSU=</td>\n",
       "      <td>{E789F6DD-3159-4DDC-81A8-8571C571656E}</td>\n",
       "      <td>2007-08-01 00:00:00</td>\n",
       "    </tr>\n",
       "    <tr>\n",
       "      <th>57</th>\n",
       "      <td>92</td>\n",
       "      <td>False</td>\n",
       "      <td>Ms.</td>\n",
       "      <td>Jovita</td>\n",
       "      <td>A.</td>\n",
       "      <td>Carmody</td>\n",
       "      <td>NaN</td>\n",
       "      <td>Sports Commodities</td>\n",
       "      <td>adventure-works\\david8</td>\n",
       "      <td>jovita0@adventure-works.com</td>\n",
       "      <td>646-555-0137</td>\n",
       "      <td>d3uGruCihzt7+Dipsh3+fE3iZd/uKCf8sy56xa5chxU=</td>\n",
       "      <td>zmqmiAQ=</td>\n",
       "      <td>{672412C3-5D5D-488B-B176-E3DAFAD05D70}</td>\n",
       "      <td>2005-09-01 00:00:00</td>\n",
       "    </tr>\n",
       "    <tr>\n",
       "      <th>712</th>\n",
       "      <td>29914</td>\n",
       "      <td>False</td>\n",
       "      <td>Mr.</td>\n",
       "      <td>Christian</td>\n",
       "      <td>NaN</td>\n",
       "      <td>Kleinerman</td>\n",
       "      <td>NaN</td>\n",
       "      <td>Finish and Sealant Products</td>\n",
       "      <td>adventure-works\\shu0</td>\n",
       "      <td>christian1@adventure-works.com</td>\n",
       "      <td>362-555-0177</td>\n",
       "      <td>v9tjo4izinAmIevwhur1w9F/Wj0yCIj1eXG0q2dFc1s=</td>\n",
       "      <td>7uZHIds=</td>\n",
       "      <td>{A4ED5B4F-19A2-4C26-A323-E952A84E6DD7}</td>\n",
       "      <td>2005-09-01 00:00:00</td>\n",
       "    </tr>\n",
       "    <tr>\n",
       "      <th>463</th>\n",
       "      <td>29527</td>\n",
       "      <td>False</td>\n",
       "      <td>Mr.</td>\n",
       "      <td>Robert</td>\n",
       "      <td>A.</td>\n",
       "      <td>Avalos</td>\n",
       "      <td>NaN</td>\n",
       "      <td>Workout Emporium</td>\n",
       "      <td>adventure-works\\josé1</td>\n",
       "      <td>robert2@adventure-works.com</td>\n",
       "      <td>665-555-0198</td>\n",
       "      <td>V09BZHvbhAXD4fluXDexe9/89mGNsFPrGa/5NMiJBRU=</td>\n",
       "      <td>3lDpoDs=</td>\n",
       "      <td>{36702D8C-0756-4B16-B0DA-8C97103D8B90}</td>\n",
       "      <td>2007-09-01 00:00:00</td>\n",
       "    </tr>\n",
       "    <tr>\n",
       "      <th>76</th>\n",
       "      <td>120</td>\n",
       "      <td>False</td>\n",
       "      <td>Mr.</td>\n",
       "      <td>Pat</td>\n",
       "      <td>NaN</td>\n",
       "      <td>Coleman</td>\n",
       "      <td>NaN</td>\n",
       "      <td>Machines &amp; Cycles Store</td>\n",
       "      <td>adventure-works\\garrett1</td>\n",
       "      <td>pat2@adventure-works.com</td>\n",
       "      <td>292-555-0128</td>\n",
       "      <td>61UcbVZnGT5eqxs0oFMv4JyipeaQCUZgUZkPgtVNBDo=</td>\n",
       "      <td>7+I+4k4=</td>\n",
       "      <td>{25863C18-4C9A-4BC9-BE0D-95F4CF67BF7D}</td>\n",
       "      <td>2007-07-01 00:00:00</td>\n",
       "    </tr>\n",
       "    <tr>\n",
       "      <th>145</th>\n",
       "      <td>228</td>\n",
       "      <td>False</td>\n",
       "      <td>Ms.</td>\n",
       "      <td>Danielle</td>\n",
       "      <td>B.</td>\n",
       "      <td>Johnson</td>\n",
       "      <td>NaN</td>\n",
       "      <td>Home Town Bike Store</td>\n",
       "      <td>adventure-works\\garrett1</td>\n",
       "      <td>danielle1@adventure-works.com</td>\n",
       "      <td>356-555-0190</td>\n",
       "      <td>b0w+/GVSsenvVoXksIyrBh+BGRKEIsId9aOsMDCOZi8=</td>\n",
       "      <td>W1IKTDo=</td>\n",
       "      <td>{C751DD7E-51D9-4D2D-AEED-C818EEE56CEB}</td>\n",
       "      <td>2007-09-01 00:00:00</td>\n",
       "    </tr>\n",
       "  </tbody>\n",
       "</table>\n",
       "</div>"
      ],
      "text/plain": [
       "     CustomerID  NameStyle Title  FirstName MiddleName    LastName Suffix  \\\n",
       "405         644      False   Mr.    Gregory         T.  Vanderbout    Jr.   \n",
       "728       29935      False   Ms.       Elsa        NaN     Leavitt    NaN   \n",
       "138         219      False   Mr.      Brian        NaN     Johnson    NaN   \n",
       "193         306      False   Mr.    Stephen         M.       Ayers    NaN   \n",
       "63          100      False   Mr.       Kirk          T        King    NaN   \n",
       "57           92      False   Ms.     Jovita         A.     Carmody    NaN   \n",
       "712       29914      False   Mr.  Christian        NaN  Kleinerman    NaN   \n",
       "463       29527      False   Mr.     Robert         A.      Avalos    NaN   \n",
       "76          120      False   Mr.        Pat        NaN     Coleman    NaN   \n",
       "145         228      False   Ms.   Danielle         B.     Johnson    NaN   \n",
       "\n",
       "                      CompanyName               SalesPerson  \\\n",
       "405  Convenient Sales and Service   adventure-works\\pamela0   \n",
       "728              Frugal Bike Shop      adventure-works\\shu0   \n",
       "138         Extras Sporting Goods  adventure-works\\jillian0   \n",
       "193     Work and Play Association  adventure-works\\michael9   \n",
       "63              Up-To-Date Sports     adventure-works\\josé1   \n",
       "57             Sports Commodities    adventure-works\\david8   \n",
       "712   Finish and Sealant Products      adventure-works\\shu0   \n",
       "463              Workout Emporium     adventure-works\\josé1   \n",
       "76        Machines & Cycles Store  adventure-works\\garrett1   \n",
       "145          Home Town Bike Store  adventure-works\\garrett1   \n",
       "\n",
       "                       EmailAddress         Phone  \\\n",
       "405    gregory1@adventure-works.com  684-555-0134   \n",
       "728       elsa0@adventure-works.com  482-555-0174   \n",
       "138      brian6@adventure-works.com  320-555-0134   \n",
       "193    stephen1@adventure-works.com  818-555-0171   \n",
       "63        kirk2@adventure-works.com  979-555-0163   \n",
       "57      jovita0@adventure-works.com  646-555-0137   \n",
       "712  christian1@adventure-works.com  362-555-0177   \n",
       "463     robert2@adventure-works.com  665-555-0198   \n",
       "76         pat2@adventure-works.com  292-555-0128   \n",
       "145   danielle1@adventure-works.com  356-555-0190   \n",
       "\n",
       "                                     PasswordHash PasswordSalt  \\\n",
       "405  syI1UO2qeBH9g2tg2nu3DTejZc7OEShGw8jxOqXfATY=     FAw6ojc=   \n",
       "728  BmJaM+147GrhU00kNTtaTolp0EJcarJK/SCfew4ZiYA=     YADhpPo=   \n",
       "138  TGnRB6vDbV0LZss8tA9iu637/34mcJWkD0Ux4xaza/k=     2t9hMlk=   \n",
       "193  m79YsPy3BDp4/SUQsvNcbTQuyZxUGV9TuBeHcAHjZCk=     F0hRcQ8=   \n",
       "63   056V7iOc8FPUiLanlyEqQX6cAWuL0TJ8fQBhX7mEjMU=     b96sfSU=   \n",
       "57   d3uGruCihzt7+Dipsh3+fE3iZd/uKCf8sy56xa5chxU=     zmqmiAQ=   \n",
       "712  v9tjo4izinAmIevwhur1w9F/Wj0yCIj1eXG0q2dFc1s=     7uZHIds=   \n",
       "463  V09BZHvbhAXD4fluXDexe9/89mGNsFPrGa/5NMiJBRU=     3lDpoDs=   \n",
       "76   61UcbVZnGT5eqxs0oFMv4JyipeaQCUZgUZkPgtVNBDo=     7+I+4k4=   \n",
       "145  b0w+/GVSsenvVoXksIyrBh+BGRKEIsId9aOsMDCOZi8=     W1IKTDo=   \n",
       "\n",
       "                                    rowguid         ModifiedDate  \n",
       "405  {9CCD22E6-5ACF-4378-BA69-1FE722239354}  2006-09-01 00:00:00  \n",
       "728  {70394DAC-8CBD-4C81-8A27-B1F8B5C041E8}  2006-08-01 00:00:00  \n",
       "138  {D39CCCE3-C4A6-441D-8A3C-96507627746D}  2007-03-01 00:00:00  \n",
       "193  {F8F2835D-F5F0-4070-8465-46BFC815153B}  2006-09-01 00:00:00  \n",
       "63   {E789F6DD-3159-4DDC-81A8-8571C571656E}  2007-08-01 00:00:00  \n",
       "57   {672412C3-5D5D-488B-B176-E3DAFAD05D70}  2005-09-01 00:00:00  \n",
       "712  {A4ED5B4F-19A2-4C26-A323-E952A84E6DD7}  2005-09-01 00:00:00  \n",
       "463  {36702D8C-0756-4B16-B0DA-8C97103D8B90}  2007-09-01 00:00:00  \n",
       "76   {25863C18-4C9A-4BC9-BE0D-95F4CF67BF7D}  2007-07-01 00:00:00  \n",
       "145  {C751DD7E-51D9-4D2D-AEED-C818EEE56CEB}  2007-09-01 00:00:00  "
      ]
     },
     "execution_count": 27,
     "metadata": {},
     "output_type": "execute_result"
    }
   ],
   "source": [
    "df.sample(10)"
   ]
  },
  {
   "cell_type": "code",
   "execution_count": 28,
   "metadata": {},
   "outputs": [
    {
     "data": {
      "text/plain": [
       "Index(['CustomerID', 'NameStyle', 'Title', 'FirstName', 'MiddleName',\n",
       "       'LastName', 'Suffix', 'CompanyName', 'SalesPerson', 'EmailAddress',\n",
       "       'Phone', 'PasswordHash', 'PasswordSalt', 'rowguid', 'ModifiedDate'],\n",
       "      dtype='object')"
      ]
     },
     "execution_count": 28,
     "metadata": {},
     "output_type": "execute_result"
    }
   ],
   "source": [
    "df.columns"
   ]
  },
  {
   "cell_type": "code",
   "execution_count": 30,
   "metadata": {},
   "outputs": [
    {
     "data": {
      "text/plain": [
       "array([False])"
      ]
     },
     "execution_count": 30,
     "metadata": {},
     "output_type": "execute_result"
    }
   ],
   "source": [
    "df['NameStyle'].unique()"
   ]
  },
  {
   "cell_type": "code",
   "execution_count": 31,
   "metadata": {},
   "outputs": [],
   "source": [
    "df.drop('NameStyle', axis=1, inplace=True)"
   ]
  },
  {
   "cell_type": "code",
   "execution_count": 32,
   "metadata": {},
   "outputs": [
    {
     "data": {
      "text/plain": [
       "Index(['CustomerID', 'Title', 'FirstName', 'MiddleName', 'LastName', 'Suffix',\n",
       "       'CompanyName', 'SalesPerson', 'EmailAddress', 'Phone', 'PasswordHash',\n",
       "       'PasswordSalt', 'rowguid', 'ModifiedDate'],\n",
       "      dtype='object')"
      ]
     },
     "execution_count": 32,
     "metadata": {},
     "output_type": "execute_result"
    }
   ],
   "source": [
    "df.columns"
   ]
  },
  {
   "cell_type": "code",
   "execution_count": 33,
   "metadata": {},
   "outputs": [
    {
     "data": {
      "text/html": [
       "<div>\n",
       "<style scoped>\n",
       "    .dataframe tbody tr th:only-of-type {\n",
       "        vertical-align: middle;\n",
       "    }\n",
       "\n",
       "    .dataframe tbody tr th {\n",
       "        vertical-align: top;\n",
       "    }\n",
       "\n",
       "    .dataframe thead th {\n",
       "        text-align: right;\n",
       "    }\n",
       "</style>\n",
       "<table border=\"1\" class=\"dataframe\">\n",
       "  <thead>\n",
       "    <tr style=\"text-align: right;\">\n",
       "      <th></th>\n",
       "      <th>CustomerID</th>\n",
       "      <th>Title</th>\n",
       "      <th>FirstName</th>\n",
       "      <th>MiddleName</th>\n",
       "      <th>LastName</th>\n",
       "      <th>Suffix</th>\n",
       "      <th>CompanyName</th>\n",
       "      <th>SalesPerson</th>\n",
       "      <th>EmailAddress</th>\n",
       "      <th>Phone</th>\n",
       "      <th>PasswordHash</th>\n",
       "      <th>PasswordSalt</th>\n",
       "      <th>rowguid</th>\n",
       "      <th>ModifiedDate</th>\n",
       "    </tr>\n",
       "  </thead>\n",
       "  <tbody>\n",
       "    <tr>\n",
       "      <th>0</th>\n",
       "      <td>1</td>\n",
       "      <td>Mr.</td>\n",
       "      <td>Orlando</td>\n",
       "      <td>N.</td>\n",
       "      <td>Gee</td>\n",
       "      <td>NaN</td>\n",
       "      <td>A Bike Store</td>\n",
       "      <td>adventure-works\\pamela0</td>\n",
       "      <td>orlando0@adventure-works.com</td>\n",
       "      <td>245-555-0173</td>\n",
       "      <td>L/Rlwxzp4w7RWmEgXX+/A7cXaePEPcp+KwQhl2fJL7w=</td>\n",
       "      <td>1KjXYs4=</td>\n",
       "      <td>{3F5AE95E-B87D-4AED-95B4-C3797AFCB74F}</td>\n",
       "      <td>2005-08-01 00:00:00</td>\n",
       "    </tr>\n",
       "    <tr>\n",
       "      <th>1</th>\n",
       "      <td>2</td>\n",
       "      <td>Mr.</td>\n",
       "      <td>Keith</td>\n",
       "      <td>NaN</td>\n",
       "      <td>Harris</td>\n",
       "      <td>NaN</td>\n",
       "      <td>Progressive Sports</td>\n",
       "      <td>adventure-works\\david8</td>\n",
       "      <td>keith0@adventure-works.com</td>\n",
       "      <td>170-555-0127</td>\n",
       "      <td>YPdtRdvqeAhj6wyxEsFdshBDNXxkCXn+CRgbvJItknw=</td>\n",
       "      <td>fs1ZGhY=</td>\n",
       "      <td>{E552F657-A9AF-4A7D-A645-C429D6E02491}</td>\n",
       "      <td>2006-08-01 00:00:00</td>\n",
       "    </tr>\n",
       "    <tr>\n",
       "      <th>2</th>\n",
       "      <td>3</td>\n",
       "      <td>Ms.</td>\n",
       "      <td>Donna</td>\n",
       "      <td>F.</td>\n",
       "      <td>Carreras</td>\n",
       "      <td>NaN</td>\n",
       "      <td>Advanced Bike Components</td>\n",
       "      <td>adventure-works\\jillian0</td>\n",
       "      <td>donna0@adventure-works.com</td>\n",
       "      <td>279-555-0130</td>\n",
       "      <td>LNoK27abGQo48gGue3EBV/UrlYSToV0/s87dCRV7uJk=</td>\n",
       "      <td>YTNH5Rw=</td>\n",
       "      <td>{130774B1-DB21-4EF3-98C8-C104BCD6ED6D}</td>\n",
       "      <td>2005-09-01 00:00:00</td>\n",
       "    </tr>\n",
       "    <tr>\n",
       "      <th>3</th>\n",
       "      <td>4</td>\n",
       "      <td>Ms.</td>\n",
       "      <td>Janet</td>\n",
       "      <td>M.</td>\n",
       "      <td>Gates</td>\n",
       "      <td>NaN</td>\n",
       "      <td>Modular Cycle Systems</td>\n",
       "      <td>adventure-works\\jillian0</td>\n",
       "      <td>janet1@adventure-works.com</td>\n",
       "      <td>710-555-0173</td>\n",
       "      <td>ElzTpSNbUW1Ut+L5cWlfR7MF6nBZia8WpmGaQPjLOJA=</td>\n",
       "      <td>nm7D5e4=</td>\n",
       "      <td>{FF862851-1DAA-4044-BE7C-3E85583C054D}</td>\n",
       "      <td>2006-07-01 00:00:00</td>\n",
       "    </tr>\n",
       "    <tr>\n",
       "      <th>4</th>\n",
       "      <td>5</td>\n",
       "      <td>Mr.</td>\n",
       "      <td>Lucy</td>\n",
       "      <td>NaN</td>\n",
       "      <td>Harrington</td>\n",
       "      <td>NaN</td>\n",
       "      <td>Metropolitan Sports Supply</td>\n",
       "      <td>adventure-works\\shu0</td>\n",
       "      <td>lucy0@adventure-works.com</td>\n",
       "      <td>828-555-0186</td>\n",
       "      <td>KJqV15wsX3PG8TS5GSddp6LFFVdd3CoRftZM/tP0+R4=</td>\n",
       "      <td>cNFKU4w=</td>\n",
       "      <td>{83905BDC-6F5E-4F71-B162-C98DA069F38A}</td>\n",
       "      <td>2006-09-01 00:00:00</td>\n",
       "    </tr>\n",
       "  </tbody>\n",
       "</table>\n",
       "</div>"
      ],
      "text/plain": [
       "   CustomerID Title FirstName MiddleName    LastName Suffix  \\\n",
       "0           1   Mr.   Orlando         N.         Gee    NaN   \n",
       "1           2   Mr.     Keith        NaN      Harris    NaN   \n",
       "2           3   Ms.     Donna         F.    Carreras    NaN   \n",
       "3           4   Ms.     Janet         M.       Gates    NaN   \n",
       "4           5   Mr.      Lucy        NaN  Harrington    NaN   \n",
       "\n",
       "                  CompanyName               SalesPerson  \\\n",
       "0                A Bike Store   adventure-works\\pamela0   \n",
       "1          Progressive Sports    adventure-works\\david8   \n",
       "2    Advanced Bike Components  adventure-works\\jillian0   \n",
       "3       Modular Cycle Systems  adventure-works\\jillian0   \n",
       "4  Metropolitan Sports Supply      adventure-works\\shu0   \n",
       "\n",
       "                   EmailAddress         Phone  \\\n",
       "0  orlando0@adventure-works.com  245-555-0173   \n",
       "1    keith0@adventure-works.com  170-555-0127   \n",
       "2    donna0@adventure-works.com  279-555-0130   \n",
       "3    janet1@adventure-works.com  710-555-0173   \n",
       "4     lucy0@adventure-works.com  828-555-0186   \n",
       "\n",
       "                                   PasswordHash PasswordSalt  \\\n",
       "0  L/Rlwxzp4w7RWmEgXX+/A7cXaePEPcp+KwQhl2fJL7w=     1KjXYs4=   \n",
       "1  YPdtRdvqeAhj6wyxEsFdshBDNXxkCXn+CRgbvJItknw=     fs1ZGhY=   \n",
       "2  LNoK27abGQo48gGue3EBV/UrlYSToV0/s87dCRV7uJk=     YTNH5Rw=   \n",
       "3  ElzTpSNbUW1Ut+L5cWlfR7MF6nBZia8WpmGaQPjLOJA=     nm7D5e4=   \n",
       "4  KJqV15wsX3PG8TS5GSddp6LFFVdd3CoRftZM/tP0+R4=     cNFKU4w=   \n",
       "\n",
       "                                  rowguid         ModifiedDate  \n",
       "0  {3F5AE95E-B87D-4AED-95B4-C3797AFCB74F}  2005-08-01 00:00:00  \n",
       "1  {E552F657-A9AF-4A7D-A645-C429D6E02491}  2006-08-01 00:00:00  \n",
       "2  {130774B1-DB21-4EF3-98C8-C104BCD6ED6D}  2005-09-01 00:00:00  \n",
       "3  {FF862851-1DAA-4044-BE7C-3E85583C054D}  2006-07-01 00:00:00  \n",
       "4  {83905BDC-6F5E-4F71-B162-C98DA069F38A}  2006-09-01 00:00:00  "
      ]
     },
     "execution_count": 33,
     "metadata": {},
     "output_type": "execute_result"
    }
   ],
   "source": [
    "df.head()"
   ]
  },
  {
   "cell_type": "code",
   "execution_count": 39,
   "metadata": {},
   "outputs": [],
   "source": [
    "df.drop(['Suffix', 'EmailAddress', 'PasswordSalt', 'PasswordHash', 'rowguid'], inplace= True, axis= 1)"
   ]
  },
  {
   "cell_type": "code",
   "execution_count": 40,
   "metadata": {},
   "outputs": [
    {
     "data": {
      "text/html": [
       "<div>\n",
       "<style scoped>\n",
       "    .dataframe tbody tr th:only-of-type {\n",
       "        vertical-align: middle;\n",
       "    }\n",
       "\n",
       "    .dataframe tbody tr th {\n",
       "        vertical-align: top;\n",
       "    }\n",
       "\n",
       "    .dataframe thead th {\n",
       "        text-align: right;\n",
       "    }\n",
       "</style>\n",
       "<table border=\"1\" class=\"dataframe\">\n",
       "  <thead>\n",
       "    <tr style=\"text-align: right;\">\n",
       "      <th></th>\n",
       "      <th>CustomerID</th>\n",
       "      <th>Title</th>\n",
       "      <th>FirstName</th>\n",
       "      <th>MiddleName</th>\n",
       "      <th>LastName</th>\n",
       "      <th>CompanyName</th>\n",
       "      <th>SalesPerson</th>\n",
       "      <th>Phone</th>\n",
       "      <th>ModifiedDate</th>\n",
       "    </tr>\n",
       "  </thead>\n",
       "  <tbody>\n",
       "    <tr>\n",
       "      <th>0</th>\n",
       "      <td>1</td>\n",
       "      <td>Mr.</td>\n",
       "      <td>Orlando</td>\n",
       "      <td>N.</td>\n",
       "      <td>Gee</td>\n",
       "      <td>A Bike Store</td>\n",
       "      <td>adventure-works\\pamela0</td>\n",
       "      <td>245-555-0173</td>\n",
       "      <td>2005-08-01 00:00:00</td>\n",
       "    </tr>\n",
       "    <tr>\n",
       "      <th>1</th>\n",
       "      <td>2</td>\n",
       "      <td>Mr.</td>\n",
       "      <td>Keith</td>\n",
       "      <td>NaN</td>\n",
       "      <td>Harris</td>\n",
       "      <td>Progressive Sports</td>\n",
       "      <td>adventure-works\\david8</td>\n",
       "      <td>170-555-0127</td>\n",
       "      <td>2006-08-01 00:00:00</td>\n",
       "    </tr>\n",
       "    <tr>\n",
       "      <th>2</th>\n",
       "      <td>3</td>\n",
       "      <td>Ms.</td>\n",
       "      <td>Donna</td>\n",
       "      <td>F.</td>\n",
       "      <td>Carreras</td>\n",
       "      <td>Advanced Bike Components</td>\n",
       "      <td>adventure-works\\jillian0</td>\n",
       "      <td>279-555-0130</td>\n",
       "      <td>2005-09-01 00:00:00</td>\n",
       "    </tr>\n",
       "    <tr>\n",
       "      <th>3</th>\n",
       "      <td>4</td>\n",
       "      <td>Ms.</td>\n",
       "      <td>Janet</td>\n",
       "      <td>M.</td>\n",
       "      <td>Gates</td>\n",
       "      <td>Modular Cycle Systems</td>\n",
       "      <td>adventure-works\\jillian0</td>\n",
       "      <td>710-555-0173</td>\n",
       "      <td>2006-07-01 00:00:00</td>\n",
       "    </tr>\n",
       "    <tr>\n",
       "      <th>4</th>\n",
       "      <td>5</td>\n",
       "      <td>Mr.</td>\n",
       "      <td>Lucy</td>\n",
       "      <td>NaN</td>\n",
       "      <td>Harrington</td>\n",
       "      <td>Metropolitan Sports Supply</td>\n",
       "      <td>adventure-works\\shu0</td>\n",
       "      <td>828-555-0186</td>\n",
       "      <td>2006-09-01 00:00:00</td>\n",
       "    </tr>\n",
       "  </tbody>\n",
       "</table>\n",
       "</div>"
      ],
      "text/plain": [
       "   CustomerID Title FirstName MiddleName    LastName  \\\n",
       "0           1   Mr.   Orlando         N.         Gee   \n",
       "1           2   Mr.     Keith        NaN      Harris   \n",
       "2           3   Ms.     Donna         F.    Carreras   \n",
       "3           4   Ms.     Janet         M.       Gates   \n",
       "4           5   Mr.      Lucy        NaN  Harrington   \n",
       "\n",
       "                  CompanyName               SalesPerson         Phone  \\\n",
       "0                A Bike Store   adventure-works\\pamela0  245-555-0173   \n",
       "1          Progressive Sports    adventure-works\\david8  170-555-0127   \n",
       "2    Advanced Bike Components  adventure-works\\jillian0  279-555-0130   \n",
       "3       Modular Cycle Systems  adventure-works\\jillian0  710-555-0173   \n",
       "4  Metropolitan Sports Supply      adventure-works\\shu0  828-555-0186   \n",
       "\n",
       "          ModifiedDate  \n",
       "0  2005-08-01 00:00:00  \n",
       "1  2006-08-01 00:00:00  \n",
       "2  2005-09-01 00:00:00  \n",
       "3  2006-07-01 00:00:00  \n",
       "4  2006-09-01 00:00:00  "
      ]
     },
     "execution_count": 40,
     "metadata": {},
     "output_type": "execute_result"
    }
   ],
   "source": [
    "df.head()"
   ]
  },
  {
   "cell_type": "code",
   "execution_count": 42,
   "metadata": {},
   "outputs": [
    {
     "data": {
      "text/plain": [
       "np.int64(847)"
      ]
     },
     "execution_count": 42,
     "metadata": {},
     "output_type": "execute_result"
    }
   ],
   "source": [
    "df['CompanyName'].count()"
   ]
  },
  {
   "cell_type": "code",
   "execution_count": 37,
   "metadata": {},
   "outputs": [
    {
     "data": {
      "text/plain": [
       "array(['Mr.', 'Ms.', nan, 'Sr.', 'Sra.'], dtype=object)"
      ]
     },
     "execution_count": 37,
     "metadata": {},
     "output_type": "execute_result"
    }
   ],
   "source": [
    "df['Title'].unique()"
   ]
  },
  {
   "cell_type": "code",
   "execution_count": 38,
   "metadata": {},
   "outputs": [
    {
     "data": {
      "text/plain": [
       "array([nan, 'Jr.', 'IV', 'Sr.', 'II', 'PhD'], dtype=object)"
      ]
     },
     "execution_count": 38,
     "metadata": {},
     "output_type": "execute_result"
    }
   ],
   "source": [
    "df['Suffix'].unique()"
   ]
  }
 ],
 "metadata": {
  "kernelspec": {
   "display_name": "Python 3",
   "language": "python",
   "name": "python3"
  },
  "language_info": {
   "codemirror_mode": {
    "name": "ipython",
    "version": 3
   },
   "file_extension": ".py",
   "mimetype": "text/x-python",
   "name": "python",
   "nbconvert_exporter": "python",
   "pygments_lexer": "ipython3",
   "version": "3.13.1"
  }
 },
 "nbformat": 4,
 "nbformat_minor": 2
}
