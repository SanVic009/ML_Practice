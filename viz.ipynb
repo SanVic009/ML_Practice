{
 "cells": [
  {
   "cell_type": "code",
   "execution_count": 6,
   "metadata": {},
   "outputs": [],
   "source": [
    "import pandas as pd\n",
    "import numpy as np\n",
    "import matplotlib.pyplot as plt\n",
    "import seaborn as sns"
   ]
  },
  {
   "cell_type": "code",
   "execution_count": 4,
   "metadata": {},
   "outputs": [],
   "source": [
    "customers = pd.read_csv('datasets/db_dump.xlsx - customers.csv')\n",
    "date= pd.read_csv('datasets/db_dump.xlsx - date.csv')\n",
    "markets  = pd.read_csv('datasets/db_dump.xlsx - markets.csv')\n",
    "products = pd.read_csv('datasets/db_dump.xlsx - products.csv')\n",
    "transactions = pd.read_csv('datasets/db_dump.xlsx - transactions.csv')"
   ]
  },
  {
   "cell_type": "code",
   "execution_count": 7,
   "metadata": {},
   "outputs": [
    {
     "name": "stdout",
     "output_type": "stream",
     "text": [
      "<class 'pandas.core.frame.DataFrame'>\n",
      "RangeIndex: 38 entries, 0 to 37\n",
      "Data columns (total 3 columns):\n",
      " #   Column         Non-Null Count  Dtype \n",
      "---  ------         --------------  ----- \n",
      " 0   customer_code  38 non-null     object\n",
      " 1   custmer_name   38 non-null     object\n",
      " 2   customer_type  38 non-null     object\n",
      "dtypes: object(3)\n",
      "memory usage: 1.0+ KB\n"
     ]
    }
   ],
   "source": [
    "customers.info()"
   ]
  },
  {
   "cell_type": "code",
   "execution_count": 8,
   "metadata": {},
   "outputs": [
    {
     "name": "stdout",
     "output_type": "stream",
     "text": [
      "<class 'pandas.core.frame.DataFrame'>\n",
      "RangeIndex: 1000 entries, 0 to 999\n",
      "Data columns (total 5 columns):\n",
      " #   Column       Non-Null Count  Dtype \n",
      "---  ------       --------------  ----- \n",
      " 0   date         1000 non-null   object\n",
      " 1   cy_date      1000 non-null   object\n",
      " 2   year         1000 non-null   int64 \n",
      " 3   month_name   1000 non-null   object\n",
      " 4   date_yy_mmm  1000 non-null   object\n",
      "dtypes: int64(1), object(4)\n",
      "memory usage: 39.2+ KB\n"
     ]
    }
   ],
   "source": [
    "date.info()"
   ]
  },
  {
   "cell_type": "code",
   "execution_count": 9,
   "metadata": {},
   "outputs": [
    {
     "name": "stdout",
     "output_type": "stream",
     "text": [
      "<class 'pandas.core.frame.DataFrame'>\n",
      "RangeIndex: 1000 entries, 0 to 999\n",
      "Data columns (total 10 columns):\n",
      " #   Column         Non-Null Count  Dtype  \n",
      "---  ------         --------------  -----  \n",
      " 0   product_code   1000 non-null   object \n",
      " 1   customer_code  1000 non-null   object \n",
      " 2   market_code    1000 non-null   object \n",
      " 3   order_date     1000 non-null   object \n",
      " 4   sales_qty      1000 non-null   int64  \n",
      " 5   sales_amount   1000 non-null   int64  \n",
      " 6   currency       1000 non-null   object \n",
      " 7   profit_margin  1000 non-null   float64\n",
      " 8   profit         1000 non-null   float64\n",
      " 9   cost_price     1000 non-null   float64\n",
      "dtypes: float64(3), int64(2), object(5)\n",
      "memory usage: 78.3+ KB\n"
     ]
    }
   ],
   "source": [
    "transactions.info()"
   ]
  }
 ],
 "metadata": {
  "kernelspec": {
   "display_name": "Python 3",
   "language": "python",
   "name": "python3"
  },
  "language_info": {
   "codemirror_mode": {
    "name": "ipython",
    "version": 3
   },
   "file_extension": ".py",
   "mimetype": "text/x-python",
   "name": "python",
   "nbconvert_exporter": "python",
   "pygments_lexer": "ipython3",
   "version": "3.13.1"
  }
 },
 "nbformat": 4,
 "nbformat_minor": 2
}
